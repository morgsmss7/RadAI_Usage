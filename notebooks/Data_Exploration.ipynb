{
 "cells": [
  {
   "cell_type": "code",
   "execution_count": 1,
   "id": "d03b6be1",
   "metadata": {},
   "outputs": [],
   "source": [
    "import utils\n",
    "import pandas as pd\n",
    "import numpy as np"
   ]
  },
  {
   "cell_type": "markdown",
   "id": "bbbd8929",
   "metadata": {},
   "source": [
    "## Load and Clean Data"
   ]
  },
  {
   "cell_type": "code",
   "execution_count": 2,
   "id": "911b738f",
   "metadata": {},
   "outputs": [
    {
     "name": "stderr",
     "output_type": "stream",
     "text": [
      "/Users/msanch35/miniconda3/lib/python3.7/site-packages/IPython/core/interactiveshell.py:3063: DtypeWarning: Columns (27,33,61,65,69,71,81,82,103,104,106,107,113,114,116,117,120,132,133,134) have mixed types.Specify dtype option on import or set low_memory=False.\n",
      "  interactivity=interactivity, compiler=compiler, result=result)\n"
     ]
    }
   ],
   "source": [
    "data = pd.read_csv('../data/namdinh.csv').fillna(0)"
   ]
  },
  {
   "cell_type": "code",
   "execution_count": 3,
   "id": "17a4b9b4",
   "metadata": {},
   "outputs": [],
   "source": [
    "drop = ['border', \n",
    "         'covid', \n",
    "         'fibrosis', \n",
    "         'pulmonary_scar', \n",
    "         'lung_opacity', \n",
    "         'airspace_opacity', \n",
    "         'other_findings']\n",
    "\n",
    "findings = []\n",
    "for i in list(data.columns):\n",
    "    if 'ai_' == i[0:3]:\n",
    "        add = True\n",
    "        for j in drop:\n",
    "            if j in i:\n",
    "                add=False\n",
    "        if add:    \n",
    "            findings.append(i[3::])"
   ]
  },
  {
   "cell_type": "markdown",
   "id": "ba5a2236",
   "metadata": {},
   "source": [
    "### Merge Eqiuvalent Findings\n"
   ]
  },
  {
   "cell_type": "code",
   "execution_count": 4,
   "id": "c59728ac",
   "metadata": {},
   "outputs": [],
   "source": [
    "data['opacity'] = data[['lung_opacity', 'airspace_opacity']].max(axis=1)\n",
    "data['ai_opacity'] = data[['ai_lung_opacity', 'ai_airspace_opacity']].max(axis=1)\n",
    "\n",
    "data['lung_scar'] = data[['fibrosis', 'pulmonary_scar']].max(axis=1)\n",
    "data['ai_lung_scar'] = data[['ai_fibrosis', 'ai_pulmonary_scar']].max(axis=1)"
   ]
  },
  {
   "cell_type": "markdown",
   "id": "cacf638a",
   "metadata": {},
   "source": [
    "### Set Clinically Significant Findings"
   ]
  },
  {
   "cell_type": "code",
   "execution_count": 5,
   "id": "65e4007a",
   "metadata": {},
   "outputs": [
    {
     "data": {
      "text/plain": [
       "['no_finding',\n",
       " 'fracture',\n",
       " 'atelectasis',\n",
       " 'enlarged_cardiomediastinum',\n",
       " 'widening_mediastinum',\n",
       " 'medical_device']"
      ]
     },
     "execution_count": 5,
     "metadata": {},
     "output_type": "execute_result"
    }
   ],
   "source": [
    "sig_findings = [\n",
    "    'opacity',\n",
    "    'cardiomegaly',\n",
    "    'lung_lesion',\n",
    "    'pleural_effusion',\n",
    "    'pneumothorax',\n",
    "    'consolidation',\n",
    "    'pneumonia',\n",
    "    'edema',\n",
    "    'cavitation',\n",
    "    'tuberculosis',\n",
    "    'nodule',\n",
    "    'mass',\n",
    "    'mass_nodule',\n",
    "    'pleural_other'\n",
    "]\n",
    "non_sig_findings = [i for i in findings if i not in sig_findings]\n",
    "non_sig_findings"
   ]
  },
  {
   "cell_type": "markdown",
   "id": "2fcec35e",
   "metadata": {},
   "source": [
    "## Compute Average Prevalence Over All Findings"
   ]
  },
  {
   "cell_type": "code",
   "execution_count": 6,
   "id": "f44cddf2",
   "metadata": {},
   "outputs": [
    {
     "name": "stdout",
     "output_type": "stream",
     "text": [
      "0.05544516983631375\n"
     ]
    }
   ],
   "source": [
    "avg_p_find = 0\n",
    "for i in range(len(findings)):\n",
    "    p_find = len(data[data[findings[i]] ==1])\n",
    "    avg_p_find += p_find\n",
    "avg_p_find /= len(findings) * len(data)\n",
    "print(avg_p_find)"
   ]
  },
  {
   "cell_type": "markdown",
   "id": "6cc8910b",
   "metadata": {},
   "source": [
    "## Compute Average Prevalence Of Disagreement"
   ]
  },
  {
   "cell_type": "code",
   "execution_count": 7,
   "id": "e9410b7a",
   "metadata": {},
   "outputs": [
    {
     "name": "stdout",
     "output_type": "stream",
     "text": [
      "0.05353790380009063\n"
     ]
    }
   ],
   "source": [
    "avg_p_dis = 0\n",
    "for i in range(len(findings)):\n",
    "    p_dis = len(data[data[findings[i]] != data['ai_'+findings[i]]]) \n",
    "    avg_p_dis += p_dis\n",
    "avg_p_dis /= len(findings) * len(data)\n",
    "print(avg_p_dis)"
   ]
  },
  {
   "cell_type": "markdown",
   "id": "25d02804",
   "metadata": {},
   "source": [
    "## Compute Average True Positive and False Positive Rates of the Diagnostic Model"
   ]
  },
  {
   "cell_type": "code",
   "execution_count": 8,
   "id": "40632d35",
   "metadata": {},
   "outputs": [
    {
     "name": "stdout",
     "output_type": "stream",
     "text": [
      "0.729387461828633\n"
     ]
    }
   ],
   "source": [
    "avg_TPR_f = 0\n",
    "den = 0\n",
    "for i in range(len(findings)):\n",
    "    if len(data[data[findings[i]]==1]) > 0:\n",
    "        avg_TPR_f += len(data[(data[findings[i]] == data['ai_'+findings[i]]) & (data[findings[i]]==1)])\n",
    "        den +=  len(data[data[findings[i]]==1])\n",
    "avg_TPR_f /= den\n",
    "print(avg_TPR_f)"
   ]
  },
  {
   "cell_type": "code",
   "execution_count": 9,
   "id": "8114eb0e",
   "metadata": {},
   "outputs": [
    {
     "name": "stdout",
     "output_type": "stream",
     "text": [
      "0.04079566842579754\n"
     ]
    }
   ],
   "source": [
    "avg_FPR_f = 0\n",
    "den = 0\n",
    "for i in range(len(findings)):\n",
    "    if len(data[data[findings[i]]==1]) > 0:\n",
    "        avg_FPR_f += len(data[(data[findings[i]] != data['ai_'+findings[i]]) & (data[findings[i]]==0)])\n",
    "        den += len(data[data[findings[i]]==0])\n",
    "avg_FPR_f /= den\n",
    "print(avg_FPR_f)"
   ]
  },
  {
   "cell_type": "code",
   "execution_count": null,
   "id": "f41ee5bf",
   "metadata": {},
   "outputs": [],
   "source": []
  }
 ],
 "metadata": {
  "kernelspec": {
   "display_name": "bme4ds",
   "language": "python",
   "name": "bme4ds"
  },
  "language_info": {
   "codemirror_mode": {
    "name": "ipython",
    "version": 3
   },
   "file_extension": ".py",
   "mimetype": "text/x-python",
   "name": "python",
   "nbconvert_exporter": "python",
   "pygments_lexer": "ipython3",
   "version": "3.7.4"
  }
 },
 "nbformat": 4,
 "nbformat_minor": 5
}
